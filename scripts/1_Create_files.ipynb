{
 "cells": [
  {
   "cell_type": "markdown",
   "id": "daa1bd19",
   "metadata": {},
   "source": [
    "# 🧰 Librerías necesarias\n",
    "Para crear carpetas o directorios directamente desde Python, no necesitas instalar nada adicional.\n",
    "Usarás librerías nativas del sistema operativo:\n",
    "- os → para manejar rutas, crear carpetas, listar archivos, etc.\n",
    "- pathlib → más moderna, limpia y recomendada para proyectos nuevos (parte de la librería estándar también)."
   ]
  },
  {
   "cell_type": "markdown",
   "id": "13861d11",
   "metadata": {},
   "source": [
    "## 🧩 Crear carpeta “data” automáticamente\n",
    "### ✅ Opción 1: usando os"
   ]
  },
  {
   "cell_type": "code",
   "execution_count": 1,
   "id": "d79dab45",
   "metadata": {},
   "outputs": [
    {
     "name": "stdout",
     "output_type": "stream",
     "text": [
      "Carpeta creada en: c:\\Users\\arnol\\documents\\BancoDigital_2025A\\scripts\\../data\n"
     ]
    }
   ],
   "source": [
    "import os\n",
    "\n",
    "# Ruta de la carpeta \"data\" dentro del proyecto actual\n",
    "ruta_carpeta = os.path.join(os.getcwd(), \"../data\")\n",
    "\n",
    "# Crear carpeta si no existe\n",
    "if not os.path.exists(ruta_carpeta):\n",
    "    os.makedirs(ruta_carpeta)\n",
    "    print(f\"Carpeta creada en: {ruta_carpeta}\")\n",
    "else:\n",
    "    print(\"La carpeta 'data' ya existe.\")"
   ]
  },
  {
   "cell_type": "markdown",
   "id": "e2ced46a",
   "metadata": {},
   "source": [
    "### ✅ Opción 2: usando pathlib (más moderno y elegante)"
   ]
  },
  {
   "cell_type": "code",
   "execution_count": 2,
   "id": "95cd99b8",
   "metadata": {},
   "outputs": [
    {
     "name": "stdout",
     "output_type": "stream",
     "text": [
      "Carpeta creada en: c:\\Users\\arnol\\documents\\BancoDigital_2025A\\scripts\\..\\database\n"
     ]
    }
   ],
   "source": [
    "from pathlib import Path\n",
    "\n",
    "# Definir la ruta de la carpeta \"data\"\n",
    "ruta_carpeta = Path.cwd() / \"../database\"\n",
    "\n",
    "# Crear la carpeta si no existe\n",
    "ruta_carpeta.mkdir(parents=True, exist_ok=True)\n",
    "\n",
    "print(f\"Carpeta creada en: {ruta_carpeta}\")"
   ]
  },
  {
   "cell_type": "markdown",
   "id": "a177f139",
   "metadata": {},
   "source": [
    "## 💡 Crear otras carpetas en la misma ejecución\n",
    "### Puedes crear toda la estructura del proyecto en segundos:"
   ]
  },
  {
   "cell_type": "code",
   "execution_count": 3,
   "id": "edf11190",
   "metadata": {},
   "outputs": [
    {
     "name": "stdout",
     "output_type": "stream",
     "text": [
      "✅ Carpeta 'data' lista en c:\\Users\\arnol\\documents\\BancoDigital_2025A\\scripts\\..\\data\n",
      "✅ Carpeta 'database' lista en c:\\Users\\arnol\\documents\\BancoDigital_2025A\\scripts\\..\\database\n",
      "✅ Carpeta 'scripts' lista en c:\\Users\\arnol\\documents\\BancoDigital_2025A\\scripts\\..\\scripts\n",
      "✅ Carpeta 'docs' lista en c:\\Users\\arnol\\documents\\BancoDigital_2025A\\scripts\\..\\docs\n"
     ]
    }
   ],
   "source": [
    "from pathlib import Path\n",
    "\n",
    "# Rutas de carpetas del proyecto\n",
    "carpetas = [\"data\", \"database\", \"scripts\", \"docs\"]\n",
    "\n",
    "for carpeta in carpetas:\n",
    "    ruta = Path.cwd() / f\"../{carpeta}\"\n",
    "    ruta.mkdir(parents=True, exist_ok=True)\n",
    "    print(f\"✅ Carpeta '{carpeta}' lista en {ruta}\")"
   ]
  }
 ],
 "metadata": {
  "kernelspec": {
   "display_name": "myenv",
   "language": "python",
   "name": "python3"
  },
  "language_info": {
   "codemirror_mode": {
    "name": "ipython",
    "version": 3
   },
   "file_extension": ".py",
   "mimetype": "text/x-python",
   "name": "python",
   "nbconvert_exporter": "python",
   "pygments_lexer": "ipython3",
   "version": "3.10.0"
  }
 },
 "nbformat": 4,
 "nbformat_minor": 5
}
